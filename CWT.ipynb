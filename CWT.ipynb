{
 "cells": [
  {
   "cell_type": "markdown",
   "id": "c92e3d88",
   "metadata": {},
   "source": [
    "# Continuous Wavelet Transformation"
   ]
  },
  {
   "cell_type": "markdown",
   "id": "b236d3d6",
   "metadata": {},
   "source": [
    "Continous Wavelet Transformation is an advanced signal processing technique that convert the seismic data from time domain to frequency domain and spectrally decompose the data into each band of frequency\n",
    "\n",
    "Several steps are performed as below:\n",
    "\n",
    "* Libraries Importation\n",
    "* Seismic Data Loading\n",
    "* Extraction of seismic traces at well location on the base of inline and crossline position.\n",
    "* Continuous Wavelet Transformation of seismic trace of each well\n"
   ]
  },
  {
   "cell_type": "markdown",
   "id": "7765b992",
   "metadata": {},
   "source": [
    "### Importing Libraries"
   ]
  },
  {
   "cell_type": "code",
   "execution_count": 90,
   "id": "76eb4c7a",
   "metadata": {},
   "outputs": [],
   "source": [
    "import pandas as pd\n",
    "import matplotlib.pyplot as plt\n",
    "import numpy as np\n",
    "import cwt3\n",
    "import tensorflow.compat.v1 as tf\n",
    "tf.compat.v1.disable_eager_execution()\n",
    "import matplotlib.colors as colors\n",
    "from mpl_toolkits.axes_grid1 import make_axes_locatable\n",
    "from segysak.segy import segy_loader,segy_header_scan\n",
    "pd.set_option(\"Display.max_rows\",1000)\n",
    "from cwt3 import ComplexMorletCWT\n",
    "from scipy.interpolate import interp1d\n",
    "from segysak import open_seisnc, segy\n",
    "import glob\n",
    "import os\n",
    "import seaborn as sns\n",
    "from segysak.segy import segy_loader,segy_writer"
   ]
  },
  {
   "cell_type": "markdown",
   "id": "46038521",
   "metadata": {},
   "source": [
    "#### Loading Seismic Data"
   ]
  },
  {
   "cell_type": "code",
   "execution_count": 7,
   "id": "b46920ff",
   "metadata": {},
   "outputs": [
    {
     "data": {
      "application/vnd.jupyter.widget-view+json": {
       "model_id": "4f712b43693a4883b614b81e953edbab",
       "version_major": 2,
       "version_minor": 0
      },
      "text/plain": [
       "  0%|          | 0.00/420k [00:00<?, ? traces/s]"
      ]
     },
     "metadata": {},
     "output_type": "display_data"
    },
    {
     "name": "stdout",
     "output_type": "stream",
     "text": [
      "Loading as 3D\n",
      "Fast direction is INLINE_3D\n"
     ]
    },
    {
     "data": {
      "application/vnd.jupyter.widget-view+json": {
       "model_id": "24ef23f65cf24f7b8fc65b41f23bc9aa",
       "version_major": 2,
       "version_minor": 0
      },
      "text/plain": [
       "Converting SEGY:   0%|          | 0.00/420k [00:00<?, ? traces/s]"
      ]
     },
     "metadata": {},
     "output_type": "display_data"
    }
   ],
   "source": [
    "amplitude1 = segy_loader(r\"E:\\HighFreq-ML\\Zamzama\\SEGY\\crop-PSTM-Complete-ML.sgy\",iline=189,xline=21)"
   ]
  },
  {
   "cell_type": "markdown",
   "id": "9bd26ae9",
   "metadata": {},
   "source": [
    "#### Extracting seismic trace from well location"
   ]
  },
  {
   "cell_type": "code",
   "execution_count": 19,
   "id": "0cdb3983",
   "metadata": {},
   "outputs": [],
   "source": [
    "NEW_SPECS=amplitude1.sel(iline=[646,332,537,430,571,401,447,489,614])"
   ]
  },
  {
   "cell_type": "code",
   "execution_count": 20,
   "id": "346b886c",
   "metadata": {},
   "outputs": [],
   "source": [
    "IL = [646,332,537,430,571,401,447,489,614]\n",
    "XL = [172,215,199,152,193,205,212,202,163]"
   ]
  },
  {
   "cell_type": "code",
   "execution_count": 22,
   "id": "8b704c0e",
   "metadata": {},
   "outputs": [
    {
     "data": {
      "text/html": [
       "<div>\n",
       "<style scoped>\n",
       "    .dataframe tbody tr th:only-of-type {\n",
       "        vertical-align: middle;\n",
       "    }\n",
       "\n",
       "    .dataframe tbody tr th {\n",
       "        vertical-align: top;\n",
       "    }\n",
       "\n",
       "    .dataframe thead th {\n",
       "        text-align: right;\n",
       "    }\n",
       "</style>\n",
       "<table border=\"1\" class=\"dataframe\">\n",
       "  <thead>\n",
       "    <tr style=\"text-align: right;\">\n",
       "      <th></th>\n",
       "      <th>iline</th>\n",
       "      <th>xline</th>\n",
       "      <th>twt</th>\n",
       "      <th>data</th>\n",
       "    </tr>\n",
       "  </thead>\n",
       "  <tbody>\n",
       "    <tr>\n",
       "      <th>18507</th>\n",
       "      <td>646</td>\n",
       "      <td>9</td>\n",
       "      <td>2000.0</td>\n",
       "      <td>4681.726562</td>\n",
       "    </tr>\n",
       "    <tr>\n",
       "      <th>18508</th>\n",
       "      <td>646</td>\n",
       "      <td>9</td>\n",
       "      <td>2002.0</td>\n",
       "      <td>5618.691406</td>\n",
       "    </tr>\n",
       "    <tr>\n",
       "      <th>18509</th>\n",
       "      <td>646</td>\n",
       "      <td>9</td>\n",
       "      <td>2004.0</td>\n",
       "      <td>5947.250000</td>\n",
       "    </tr>\n",
       "    <tr>\n",
       "      <th>18510</th>\n",
       "      <td>646</td>\n",
       "      <td>9</td>\n",
       "      <td>2006.0</td>\n",
       "      <td>5870.710938</td>\n",
       "    </tr>\n",
       "    <tr>\n",
       "      <th>18511</th>\n",
       "      <td>646</td>\n",
       "      <td>9</td>\n",
       "      <td>2008.0</td>\n",
       "      <td>5671.054688</td>\n",
       "    </tr>\n",
       "    <tr>\n",
       "      <th>...</th>\n",
       "      <td>...</td>\n",
       "      <td>...</td>\n",
       "      <td>...</td>\n",
       "      <td>...</td>\n",
       "    </tr>\n",
       "    <tr>\n",
       "      <th>7811869</th>\n",
       "      <td>614</td>\n",
       "      <td>341</td>\n",
       "      <td>2492.0</td>\n",
       "      <td>-3876.802734</td>\n",
       "    </tr>\n",
       "    <tr>\n",
       "      <th>7811870</th>\n",
       "      <td>614</td>\n",
       "      <td>341</td>\n",
       "      <td>2494.0</td>\n",
       "      <td>-5162.765625</td>\n",
       "    </tr>\n",
       "    <tr>\n",
       "      <th>7811871</th>\n",
       "      <td>614</td>\n",
       "      <td>341</td>\n",
       "      <td>2496.0</td>\n",
       "      <td>-6171.039062</td>\n",
       "    </tr>\n",
       "    <tr>\n",
       "      <th>7811872</th>\n",
       "      <td>614</td>\n",
       "      <td>341</td>\n",
       "      <td>2498.0</td>\n",
       "      <td>-6866.562500</td>\n",
       "    </tr>\n",
       "    <tr>\n",
       "      <th>7811873</th>\n",
       "      <td>614</td>\n",
       "      <td>341</td>\n",
       "      <td>2500.0</td>\n",
       "      <td>-7228.578125</td>\n",
       "    </tr>\n",
       "  </tbody>\n",
       "</table>\n",
       "<p>742207 rows × 4 columns</p>\n",
       "</div>"
      ],
      "text/plain": [
       "         iline  xline     twt         data\n",
       "18507      646      9  2000.0  4681.726562\n",
       "18508      646      9  2002.0  5618.691406\n",
       "18509      646      9  2004.0  5947.250000\n",
       "18510      646      9  2006.0  5870.710938\n",
       "18511      646      9  2008.0  5671.054688\n",
       "...        ...    ...     ...          ...\n",
       "7811869    614    341  2492.0 -3876.802734\n",
       "7811870    614    341  2494.0 -5162.765625\n",
       "7811871    614    341  2496.0 -6171.039062\n",
       "7811872    614    341  2498.0 -6866.562500\n",
       "7811873    614    341  2500.0 -7228.578125\n",
       "\n",
       "[742207 rows x 4 columns]"
      ]
     },
     "execution_count": 22,
     "metadata": {},
     "output_type": "execute_result"
    }
   ],
   "source": [
    "data1 = NEW_SPECS.to_dataframe().reset_index()\n",
    "data1 = data1[(data1[\"twt\"]>=2000)&(data1[\"twt\"]<=2500)]\n",
    "data1 = data1[data1[\"data\"]!=0]\n",
    "data1"
   ]
  },
  {
   "cell_type": "markdown",
   "id": "c7f3ca97",
   "metadata": {},
   "source": [
    "#### Continuous Wavelet Transformation of seismic trace of each well"
   ]
  },
  {
   "cell_type": "code",
   "execution_count": 122,
   "id": "2cc3cefb",
   "metadata": {},
   "outputs": [
    {
     "data": {
      "text/plain": [
       "['E:\\\\HighFreq-ML\\\\Zamzama\\\\Synthetic-1\\\\_1.csv',\n",
       " 'E:\\\\HighFreq-ML\\\\Zamzama\\\\Synthetic-1\\\\_2.csv',\n",
       " 'E:\\\\HighFreq-ML\\\\Zamzama\\\\Synthetic-1\\\\_3.csv',\n",
       " 'E:\\\\HighFreq-ML\\\\Zamzama\\\\Synthetic-1\\\\_4.csv',\n",
       " 'E:\\\\HighFreq-ML\\\\Zamzama\\\\Synthetic-1\\\\_5.csv',\n",
       " 'E:\\\\HighFreq-ML\\\\Zamzama\\\\Synthetic-1\\\\_6.csv',\n",
       " 'E:\\\\HighFreq-ML\\\\Zamzama\\\\Synthetic-1\\\\_7.csv',\n",
       " 'E:\\\\HighFreq-ML\\\\Zamzama\\\\Synthetic-1\\\\_8.csv',\n",
       " 'E:\\\\HighFreq-ML\\\\Zamzama\\\\Synthetic-1\\\\_9.csv']"
      ]
     },
     "execution_count": 122,
     "metadata": {},
     "output_type": "execute_result"
    }
   ],
   "source": [
    "paths_new = glob.glob(os.path.join(r\"E:\\HighFreq-ML\\Zamzama\\Synthetic-1\",\"*.csv\"))\n",
    "paths_new"
   ]
  },
  {
   "cell_type": "code",
   "execution_count": 72,
   "id": "303defee",
   "metadata": {},
   "outputs": [],
   "source": [
    "data2 = pd.read_csv(paths_new[0])\n",
    "data = data1[(data1[\"iline\"]==IL[0])&(data1[\"xline\"]==XL[0])].reset_index(drop=True)\n",
    "amplitude = data[\"data\"].values\n",
    "fs = 200\n",
    "n_samples = amplitude.size\n",
    "time_axis = np.arange(0, n_samples) / fs"
   ]
  },
  {
   "cell_type": "code",
   "execution_count": 73,
   "id": "7554dbe3",
   "metadata": {},
   "outputs": [],
   "source": [
    "lower_freq = 3\n",
    "upper_freq = 24\n",
    "n_scales = 100\n",
    "wavelet_width = 1"
   ]
  },
  {
   "cell_type": "code",
   "execution_count": 74,
   "id": "d3f95eff",
   "metadata": {},
   "outputs": [],
   "source": [
    "cwt = ComplexMorletCWT(wavelet_width, fs, lower_freq, upper_freq, n_scales)"
   ]
  },
  {
   "cell_type": "code",
   "execution_count": 75,
   "id": "244e9772",
   "metadata": {},
   "outputs": [],
   "source": [
    "which_scale = -1"
   ]
  },
  {
   "cell_type": "code",
   "execution_count": 76,
   "id": "afad01f0",
   "metadata": {},
   "outputs": [],
   "source": [
    "real_bank = cwt.real_part\n",
    "imag_bank = cwt.imaginary_part\n",
    "single_real_wavelet = real_bank[0, :, 0, which_scale]\n",
    "single_imag_wavelet = imag_bank[0, :, 0, which_scale]"
   ]
  },
  {
   "cell_type": "code",
   "execution_count": 77,
   "id": "302c9e12",
   "metadata": {},
   "outputs": [],
   "source": [
    "with tf.compat.v1.Session() as sess:\n",
    "    sess.run(tf.compat.v1.global_variables_initializer())\n",
    "    np_single_real_wavelet, np_single_imag_wavelet = sess.run([single_real_wavelet, single_imag_wavelet])\n",
    "single_wavelet_size = np_single_real_wavelet.size\n",
    "time_axis = np.arange(0, single_wavelet_size) / fs\n",
    "time_axis = time_axis - np.mean(time_axis)\n",
    "prepared_signal = amplitude.reshape((1, -1, 1)).astype(np.float32)\n",
    "scalogram = cwt(prepared_signal)"
   ]
  },
  {
   "cell_type": "code",
   "execution_count": 78,
   "id": "f5bc13e8",
   "metadata": {},
   "outputs": [
    {
     "name": "stdout",
     "output_type": "stream",
     "text": [
      "The result has shape (1, 251, 100, 2)\n"
     ]
    }
   ],
   "source": [
    "with tf.Session() as sess:\n",
    "    sess.run(tf.global_variables_initializer())  # In case it wasn't run before\n",
    "    np_scalogram = sess.run(scalogram)\n",
    "print(\"The result has shape\", np_scalogram.shape)\n",
    "scalogram_real = np_scalogram[0, :, :, 0]\n",
    "scalogram_imag = np_scalogram[0, :, :, 1]\n",
    "scalogram_magn = np.sqrt(scalogram_real ** 2 + scalogram_imag ** 2)"
   ]
  },
  {
   "cell_type": "code",
   "execution_count": 80,
   "id": "995e4fb8",
   "metadata": {},
   "outputs": [],
   "source": [
    "sample = data2.copy()\n",
    "sample[\"DPTM\"] = sample[\"DPTM\"]*1000\n",
    "imaginary = pd.DataFrame(scalogram_imag)\n",
    "imaginary = pd.concat([imaginary,data[\"twt\"]],axis=1)\n",
    "imaginary = imaginary[(imaginary[\"twt\"]>sample[\"DPTM\"].min()+1)&(imaginary[\"twt\"]<sample[\"DPTM\"].max()-1)]\n",
    "real = pd.DataFrame(scalogram_real)\n",
    "real = pd.concat([real,data[\"twt\"]],axis=1)\n",
    "real = real[(real[\"twt\"]>sample[\"DPTM\"].min()+1)&(real[\"twt\"]<sample[\"DPTM\"].max()-1)]\n",
    "magnitude = pd.DataFrame(scalogram_magn)\n",
    "magnitude = pd.concat([magnitude,data[\"twt\"]],axis=1)\n",
    "magnitude = magnitude[(magnitude[\"twt\"]>sample[\"DPTM\"].min()+1)&(magnitude[\"twt\"]<sample[\"DPTM\"].max()-1)]\n",
    "wave = [imaginary,magnitude,real]"
   ]
  },
  {
   "cell_type": "code",
   "execution_count": 86,
   "id": "d7e00430",
   "metadata": {},
   "outputs": [],
   "source": [
    "sample = data2.copy()\n",
    "imaginary = pd.DataFrame(scalogram_imag)\n",
    "imaginary = pd.concat([imaginary,data[\"twt\"]],axis=1)\n",
    "imaginary = imaginary[(imaginary[\"twt\"]>sample[\"DPTM\"].min()*1000-2)&(imaginary[\"twt\"]<sample[\"DPTM\"].max()*1000+2)]\n",
    "real = pd.DataFrame(scalogram_real)\n",
    "real = pd.concat([real,data[\"twt\"]],axis=1)\n",
    "real = real[(real[\"twt\"]>sample[\"DPTM\"].min()*1000-2)&(real[\"twt\"]<sample[\"DPTM\"].max()*1000+2)]\n",
    "magnitude = pd.DataFrame(scalogram_magn)\n",
    "magnitude = pd.concat([magnitude,data[\"twt\"]],axis=1)\n",
    "magnitude = magnitude[(magnitude[\"twt\"]>sample[\"DPTM\"].min()*1000-2)&(magnitude[\"twt\"]<sample[\"DPTM\"].max()*1000+2)]"
   ]
  },
  {
   "cell_type": "code",
   "execution_count": 91,
   "id": "fa012851",
   "metadata": {},
   "outputs": [],
   "source": [
    "wave = [imaginary,magnitude,real]\n",
    "sign = [\"I\",\"M\",\"R\"]\n",
    "for i in range(len(wave)):\n",
    "    for j in wave[i].columns[:100]:\n",
    "        f = interp1d(wave[0][\"twt\"],wave[i][j],fill_value='extrapolate')\n",
    "        sample[f\"{sign[i]+str(j)}\"] = f(sample[\"DPTM\"])"
   ]
  },
  {
   "cell_type": "code",
   "execution_count": 121,
   "id": "7b18e156",
   "metadata": {},
   "outputs": [
    {
     "data": {
      "image/png": "[encoded data removed]",
      "text/plain": [
       "<Figure size 800x240 with 5 Axes>"
      ]
     },
     "metadata": {},
     "output_type": "display_data"
    }
   ],
   "source": [
    "fig, axes = plt.subplots(1, 5, figsize=(10, 3), dpi=80, sharey=True)\n",
    "axes[0].plot(amplitude,data[\"twt\"],color=\"black\")\n",
    "axes[0].fill_betweenx(data[\"twt\"], 0.2 , amplitude, where=(amplitude>0.5),color='k')\n",
    "axes[0].set_title(\"Seimsic Trace\",fontsize=14)\n",
    "axes[0].set_ylim(1900,2500)\n",
    "axes[1].invert_yaxis()\n",
    "axes[1].imshow(scalogram_real, interpolation=\"spline36\", aspect=\"auto\", extent=[0, scalogram_real.shape[0], data[\"twt\"].max(), data[\"twt\"].min()],cmap=\"seismic_r\")\n",
    "axes[1].set_title(\"Real part\",fontsize=14)\n",
    "\n",
    "\n",
    "axes[2].imshow(scalogram_imag, interpolation=\"spline36\", aspect=\"auto\", extent=[0, scalogram_imag.shape[0],data[\"twt\"].max(), data[\"twt\"].min()],cmap=\"seismic_r\")\n",
    "axes[2].set_title(\"Imaginary part\",fontsize=14)\n",
    "\n",
    "\n",
    "axes[3].imshow(scalogram_magn, interpolation=\"spline36\", aspect=\"auto\", extent=[0, scalogram_magn.shape[0], data[\"twt\"].max(), data[\"twt\"].min()],cmap=\"seismic_r\")\n",
    "axes[3].set_title(\"Magnitude\",fontsize=14)\n",
    "\n",
    "axes[4].plot(sample[\"Synthetic\"],sample[\"DPTM\"]*1000,color=\"black\")\n",
    "\n",
    "axes[4].fill_betweenx(sample[\"DPTM\"]*1000, 0 , sample[\"Synthetic\"], where=(sample[\"Synthetic\"]>0.01),color='k')\n",
    "\n",
    "axes[0].set_ylim([sample[\"DPTM\"].max()*1000, sample[\"DPTM\"].min()*1000])\n",
    "axes[4].set_title(\"Synthetic\",fontsize=14)\n",
    "plt.tight_layout()\n",
    "axes[1].set_xticks([])\n",
    "axes[2].set_xticks([])\n",
    "axes[3].set_xticks([])\n",
    "\n",
    "plt.show()"
   ]
  },
  {
   "cell_type": "code",
   "execution_count": 123,
   "id": "0f5f2993",
   "metadata": {},
   "outputs": [],
   "source": [
    "sample.to_csv(f\"E:\\HighFreq-ML\\Zamzama\\CWT_data\\\\_1.csv\",index=False)"
   ]
  },
  {
   "cell_type": "code",
   "execution_count": null,
   "id": "9a7720ff",
   "metadata": {},
   "outputs": [],
   "source": []
  }
 ],
 "metadata": {
  "kernelspec": {
   "display_name": "Python 3 (ipykernel)",
   "language": "python",
   "name": "python3"
  },
  "language_info": {
   "codemirror_mode": {
    "name": "ipython",
    "version": 3
   },
   "file_extension": ".py",
   "mimetype": "text/x-python",
   "name": "python",
   "nbconvert_exporter": "python",
   "pygments_lexer": "ipython3",
   "version": "3.7.16"
  }
 },
 "nbformat": 4,
 "nbformat_minor": 5
}
