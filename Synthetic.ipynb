{
 "cells": [
  {
   "cell_type": "markdown",
   "id": "f263cfd4",
   "metadata": {},
   "source": [
    "# Generating Seismograms from Well Logs in Python"
   ]
  },
  {
   "cell_type": "markdown",
   "id": "d57144bb",
   "metadata": {},
   "source": [
    "Acoustic Impedance is generated through sonic and density well log from each well. In this research, the high frequency wavelet is convolved to generate synthetic from reflectivity series made from acoustic impedance. Several steps are performed in order to successfully accomplish the generation of synthetic of each well.\n",
    "\n",
    "The following steps are performed:\n",
    "* Libraries Importation\n",
    "* Data Loading\n",
    "* Generation of Acoustic Impedance\n",
    "* Generation of Reflectivity Series\n",
    "* Wavelet and Convolution\n",
    "* Synthetic Visualization"
   ]
  },
  {
   "cell_type": "markdown",
   "id": "0657913d",
   "metadata": {},
   "source": [
    "###  1 - Libraries Importation"
   ]
  },
  {
   "cell_type": "markdown",
   "id": "bb7f3d27",
   "metadata": {},
   "source": [
    " Libraries are imported in order to use the modules for the synthetic data generation."
   ]
  },
  {
   "cell_type": "code",
   "execution_count": 43,
   "id": "2ff81501",
   "metadata": {},
   "outputs": [],
   "source": [
    "import pandas as pd\n",
    "import numpy as np\n",
    "import matplotlib.pyplot as plt\n",
    "import glob\n",
    "import os\n",
    "import natsort"
   ]
  },
  {
   "cell_type": "markdown",
   "id": "c60f8d97",
   "metadata": {},
   "source": [
    "### 2 - Data Loading"
   ]
  },
  {
   "cell_type": "markdown",
   "id": "9f90fddf",
   "metadata": {},
   "source": [
    "Paths are given in order to get the excel format of zamzama files of all wells in order to load them in python."
   ]
  },
  {
   "cell_type": "code",
   "execution_count": 44,
   "id": "68fb816e",
   "metadata": {},
   "outputs": [
    {
     "data": {
      "text/plain": [
       "'E:\\\\HighFreq-ML\\\\Zamzama\\\\wells\\\\_10.csv'"
      ]
     },
     "execution_count": 44,
     "metadata": {},
     "output_type": "execute_result"
    }
   ],
   "source": [
    "paths = natsort.natsorted(glob.glob(os.path.join(r\"E:\\HighFreq-ML\\Zamzama\\wells\",\"*.csv\")))\n",
    "paths.pop(-1)"
   ]
  },
  {
   "cell_type": "markdown",
   "id": "449b3e20",
   "metadata": {},
   "source": [
    "Dataframe are exported into the python through path files extracted from the last step."
   ]
  },
  {
   "cell_type": "code",
   "execution_count": 45,
   "id": "260b77a8",
   "metadata": {},
   "outputs": [],
   "source": [
    "data =[]\n",
    "for i in paths:\n",
    "    r = pd.read_csv(i)\n",
    "    data.append(r)"
   ]
  },
  {
   "cell_type": "markdown",
   "id": "f2959ece",
   "metadata": {},
   "source": [
    "### 3 - Generation of Acoustic Impedance"
   ]
  },
  {
   "cell_type": "markdown",
   "id": "592b26b9",
   "metadata": {},
   "source": [
    "After exporting the datasets of each well, every well is analyzed, density and velocity are used to create acoustic impedance (AI)."
   ]
  },
  {
   "cell_type": "code",
   "execution_count": 46,
   "id": "23405dde",
   "metadata": {},
   "outputs": [],
   "source": [
    "a=data[0]\n",
    "a=a[[\"amplitude\",\"DPTM\",\"DT\",\"RHOB\"]].dropna(how=\"any\")"
   ]
  },
  {
   "cell_type": "code",
   "execution_count": 47,
   "id": "a09d694b",
   "metadata": {},
   "outputs": [
    {
     "data": {
      "text/html": [
       "<div>\n",
       "<style scoped>\n",
       "    .dataframe tbody tr th:only-of-type {\n",
       "        vertical-align: middle;\n",
       "    }\n",
       "\n",
       "    .dataframe tbody tr th {\n",
       "        vertical-align: top;\n",
       "    }\n",
       "\n",
       "    .dataframe thead th {\n",
       "        text-align: right;\n",
       "    }\n",
       "</style>\n",
       "<table border=\"1\" class=\"dataframe\">\n",
       "  <thead>\n",
       "    <tr style=\"text-align: right;\">\n",
       "      <th></th>\n",
       "      <th>amplitude</th>\n",
       "      <th>DPTM</th>\n",
       "      <th>DT</th>\n",
       "      <th>RHOB</th>\n",
       "      <th>A-I</th>\n",
       "    </tr>\n",
       "  </thead>\n",
       "  <tbody>\n",
       "    <tr>\n",
       "      <th>0</th>\n",
       "      <td>13404.452191</td>\n",
       "      <td>2.139732</td>\n",
       "      <td>3811.4956</td>\n",
       "      <td>2.6288</td>\n",
       "      <td>10019.659633</td>\n",
       "    </tr>\n",
       "    <tr>\n",
       "      <th>1</th>\n",
       "      <td>13366.818297</td>\n",
       "      <td>2.139790</td>\n",
       "      <td>5242.6025</td>\n",
       "      <td>2.5888</td>\n",
       "      <td>13572.049352</td>\n",
       "    </tr>\n",
       "    <tr>\n",
       "      <th>2</th>\n",
       "      <td>13335.499570</td>\n",
       "      <td>2.139839</td>\n",
       "      <td>5847.6240</td>\n",
       "      <td>2.7191</td>\n",
       "      <td>15900.274418</td>\n",
       "    </tr>\n",
       "    <tr>\n",
       "      <th>3</th>\n",
       "      <td>13295.809774</td>\n",
       "      <td>2.139902</td>\n",
       "      <td>5846.7676</td>\n",
       "      <td>2.7242</td>\n",
       "      <td>15927.764296</td>\n",
       "    </tr>\n",
       "    <tr>\n",
       "      <th>4</th>\n",
       "      <td>13258.181889</td>\n",
       "      <td>2.139960</td>\n",
       "      <td>5846.8052</td>\n",
       "      <td>2.7240</td>\n",
       "      <td>15926.697365</td>\n",
       "    </tr>\n",
       "    <tr>\n",
       "      <th>...</th>\n",
       "      <td>...</td>\n",
       "      <td>...</td>\n",
       "      <td>...</td>\n",
       "      <td>...</td>\n",
       "      <td>...</td>\n",
       "    </tr>\n",
       "    <tr>\n",
       "      <th>332</th>\n",
       "      <td>8241.536959</td>\n",
       "      <td>2.168649</td>\n",
       "      <td>4148.8994</td>\n",
       "      <td>2.6076</td>\n",
       "      <td>10818.670075</td>\n",
       "    </tr>\n",
       "    <tr>\n",
       "      <th>333</th>\n",
       "      <td>8354.837662</td>\n",
       "      <td>2.168747</td>\n",
       "      <td>4187.4199</td>\n",
       "      <td>2.6038</td>\n",
       "      <td>10903.203936</td>\n",
       "    </tr>\n",
       "    <tr>\n",
       "      <th>334</th>\n",
       "      <td>8452.019659</td>\n",
       "      <td>2.168831</td>\n",
       "      <td>4187.3564</td>\n",
       "      <td>2.6032</td>\n",
       "      <td>10900.526180</td>\n",
       "    </tr>\n",
       "    <tr>\n",
       "      <th>335</th>\n",
       "      <td>8553.737482</td>\n",
       "      <td>2.168919</td>\n",
       "      <td>4177.3008</td>\n",
       "      <td>2.6060</td>\n",
       "      <td>10886.045885</td>\n",
       "    </tr>\n",
       "    <tr>\n",
       "      <th>336</th>\n",
       "      <td>8655.793079</td>\n",
       "      <td>2.169008</td>\n",
       "      <td>4167.2368</td>\n",
       "      <td>2.6084</td>\n",
       "      <td>10869.820469</td>\n",
       "    </tr>\n",
       "  </tbody>\n",
       "</table>\n",
       "<p>337 rows × 5 columns</p>\n",
       "</div>"
      ],
      "text/plain": [
       "        amplitude      DPTM         DT    RHOB           A-I\n",
       "0    13404.452191  2.139732  3811.4956  2.6288  10019.659633\n",
       "1    13366.818297  2.139790  5242.6025  2.5888  13572.049352\n",
       "2    13335.499570  2.139839  5847.6240  2.7191  15900.274418\n",
       "3    13295.809774  2.139902  5846.7676  2.7242  15927.764296\n",
       "4    13258.181889  2.139960  5846.8052  2.7240  15926.697365\n",
       "..            ...       ...        ...     ...           ...\n",
       "332   8241.536959  2.168649  4148.8994  2.6076  10818.670075\n",
       "333   8354.837662  2.168747  4187.4199  2.6038  10903.203936\n",
       "334   8452.019659  2.168831  4187.3564  2.6032  10900.526180\n",
       "335   8553.737482  2.168919  4177.3008  2.6060  10886.045885\n",
       "336   8655.793079  2.169008  4167.2368  2.6084  10869.820469\n",
       "\n",
       "[337 rows x 5 columns]"
      ]
     },
     "execution_count": 47,
     "metadata": {},
     "output_type": "execute_result"
    }
   ],
   "source": [
    "a[\"A-I\"] = a[\"DT\"]*a[\"RHOB\"]\n",
    "a[\"DPTM\"] = a[\"DPTM\"]/1000  #conversion of time from milliseconds to seconds\n",
    "a"
   ]
  },
  {
   "cell_type": "markdown",
   "id": "88f9ce94",
   "metadata": {},
   "source": [
    "### 4 - Generation of Reflectivity Series"
   ]
  },
  {
   "cell_type": "markdown",
   "id": "ada6ae54",
   "metadata": {},
   "source": [
    "\n",
    "                                   Reflection cofficient series are generated through zoeppritz equation\n",
    "$$ R = {Z1 - Z0 \\over Z1 + Z0} $$\n",
    "\n",
    "$$Z = Acoustic    Impedance = ρV$$"
   ]
  },
  {
   "cell_type": "markdown",
   "id": "11f6df0b",
   "metadata": {},
   "source": [
    "Acoustic Impedance is used to create reflectivity series using zoeppritz equation."
   ]
  },
  {
   "cell_type": "code",
   "execution_count": 48,
   "id": "d4e7b282",
   "metadata": {},
   "outputs": [],
   "source": [
    "dt = 0.0001  #sampling interval\n",
    "t = np.arange(a[\"DPTM\"].min(), a[\"DPTM\"].max(), dt)  #the samples of time is extracted between minimum and maximum time\n",
    "AI_time = np.interp(x=t, xp = a.DPTM, fp = a[\"A-I\"])  #interpolation of acoustic impedance at each time of t\n",
    "Amp_time = np.interp(x=t, xp = a.DPTM, fp = a[\"amplitude\"]) #interpolation of amplitude from seismic data at each time of t"
   ]
  },
  {
   "cell_type": "code",
   "execution_count": 49,
   "id": "ea6c407c",
   "metadata": {},
   "outputs": [],
   "source": [
    "RF=[]\n",
    "for i in range(len(AI_time)-1):\n",
    "    z1 = (AI_time[i+1]-AI_time[i])/(AI_time[i]+AI_time[i+1])\n",
    "    RF.append(z1)\n",
    "RF.append(RF[-1])"
   ]
  },
  {
   "cell_type": "markdown",
   "id": "e6cc781f",
   "metadata": {},
   "source": [
    "### 5 - Wavelet & Convolution"
   ]
  },
  {
   "cell_type": "markdown",
   "id": "fe70e4b3",
   "metadata": {},
   "source": [
    "High frequency wavelet is convolved into the reflectivity series in order to generate synthetic."
   ]
  },
  {
   "cell_type": "code",
   "execution_count": 50,
   "id": "5ced6318",
   "metadata": {},
   "outputs": [],
   "source": [
    "def ricker_wavelet(f, length, dt):\n",
    "    t0 = np.arange(-length/2, (length-dt)/2, dt)\n",
    "    t_squared = t0**2\n",
    "    y = (1.0 - 2.0*(np.pi**2)*(f**2)*t_squared) * np.exp(-(np.pi**2)*(f**2)*t_squared)\n",
    "    return t0, y"
   ]
  },
  {
   "cell_type": "code",
   "execution_count": 117,
   "id": "3e858a43",
   "metadata": {},
   "outputs": [],
   "source": [
    "f=65       \n",
    "length=0.0293\n",
    "dt= 0.0001\n",
    "t0, w = ricker_wavelet(f, length, dt)  \n",
    "synthetic = np.convolve(w, RF, mode='same')"
   ]
  },
  {
   "cell_type": "markdown",
   "id": "3a845d91",
   "metadata": {},
   "source": [
    "### 6 - Synthetic Visualizations"
   ]
  },
  {
   "cell_type": "markdown",
   "id": "9c38efa2",
   "metadata": {},
   "source": [
    "The dataframe consists of the amplitude, acoustic impedance, reflection coefficient series and synthetic at specific interval of time."
   ]
  },
  {
   "cell_type": "code",
   "execution_count": 118,
   "id": "2138cbc5",
   "metadata": {},
   "outputs": [],
   "source": [
    "new = pd.DataFrame({\"Amplitude\":Amp_time,\"AI\":AI_time,\"RC\":RF,\"Synthetic\":synthetic,\"DPTM\":t})"
   ]
  },
  {
   "cell_type": "code",
   "execution_count": 119,
   "id": "4d2526bc",
   "metadata": {},
   "outputs": [
    {
     "data": {
      "image/png": "[encoded data removed]",
      "text/plain": [
       "<Figure size 800x560 with 4 Axes>"
      ]
     },
     "metadata": {},
     "output_type": "display_data"
    }
   ],
   "source": [
    "fig, axes = plt.subplots(1, 4, figsize=(10, 7), dpi=80, sharey=True)\n",
    "axes[0].plot(new[\"AI\"],new[\"DPTM\"]*1000,color=\"red\")\n",
    "axes[0].set_title(\"Acoustic\\nImpedance\")\n",
    "axes[1].plot([0,0],[new[\"DPTM\"].min()*1000,new[\"DPTM\"].max()*1000],color=\"black\")\n",
    "axes[1].set_title(\"Reflection\\nCoefficient\")\n",
    "for i,j in zip(new[\"RC\"],new[\"DPTM\"]*1000):\n",
    "    if i>=0:\n",
    "        a = np.arange(0,i,0.0001)\n",
    "        axes[1].scatter(a,j*np.ones(len(a)),color=\"black\",s=0.05)\n",
    "    else:\n",
    "        b = np.arange(i,0,0.0001)\n",
    "        axes[1].scatter(b,j*np.ones(len(b)),color=\"black\",s=0.05)\n",
    "axes[3].plot(new[\"Amplitude\"],new[\"DPTM\"]*1000,color=\"black\")\n",
    "axes[3].set_title(\"Amplitude\")\n",
    "axes[3].fill_betweenx(new[\"DPTM\"]*1000, 0.4 , new[\"Amplitude\"], where=(new[\"Amplitude\"]>0.5),color='k')\n",
    "axes[2].plot(new[\"Synthetic\"],new[\"DPTM\"]*1000)\n",
    "axes[2].fill_betweenx(new[\"DPTM\"]*1000, 0.02 , new[\"Synthetic\"], where=(new[\"Synthetic\"]>0.02),color='k')\n",
    "axes[2].set_title(\"Synthetic\",fontsize=21)\n",
    "axes[0].set_ylabel(\"TWT (ms)\",fontsize=21)\n",
    "axes[0].invert_yaxis()\n",
    "plt.show()"
   ]
  },
  {
   "cell_type": "code",
   "execution_count": null,
   "id": "fcc218f5",
   "metadata": {},
   "outputs": [],
   "source": [
    "new.to_csv(\"synthetic_well_1.csv\",index=False)"
   ]
  }
 ],
 "metadata": {
  "kernelspec": {
   "display_name": "Python 3 (ipykernel)",
   "language": "python",
   "name": "python3"
  },
  "language_info": {
   "codemirror_mode": {
    "name": "ipython",
    "version": 3
   },
   "file_extension": ".py",
   "mimetype": "text/x-python",
   "name": "python",
   "nbconvert_exporter": "python",
   "pygments_lexer": "ipython3",
   "version": "3.7.16"
  }
 },
 "nbformat": 4,
 "nbformat_minor": 5
}
